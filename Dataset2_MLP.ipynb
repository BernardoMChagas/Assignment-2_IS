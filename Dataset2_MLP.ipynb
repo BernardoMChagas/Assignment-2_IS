{
 "cells": [
  {
   "cell_type": "code",
   "execution_count": 9,
   "id": "c6428f9d",
   "metadata": {},
   "outputs": [],
   "source": [
    "import numpy as np\n",
    "from sklearn.datasets import fetch_openml\n",
    "from sklearn.preprocessing import StandardScaler\n",
    "from sklearn.model_selection import train_test_split\n",
    "from sklearn.metrics import mean_squared_error,accuracy_score,classification_report, confusion_matrix\n",
    "import matplotlib.pyplot as plt\n",
    "import torch.nn.functional as F\n",
    "import torch\n",
    "import torch.nn as nn\n",
    "import torch.optim as optim\n",
    "from torch.utils.data import TensorDataset, DataLoader\n",
    "import pandas"
   ]
  },
  {
   "cell_type": "markdown",
   "id": "e37f12a1",
   "metadata": {},
   "source": [
    "Importation of Dataset 2"
   ]
  },
  {
   "cell_type": "code",
   "execution_count": 10,
   "id": "0a386c10",
   "metadata": {},
   "outputs": [
    {
     "name": "stdout",
     "output_type": "stream",
     "text": [
      "Shape: (768, 8)\n",
      "   preg  plas  pres  skin  insu  mass   pedi  age\n",
      "0     6   148    72    35     0  33.6  0.627   50\n",
      "1     1    85    66    29     0  26.6  0.351   31\n",
      "2     8   183    64     0     0  23.3  0.672   32\n",
      "3     1    89    66    23    94  28.1  0.167   21\n",
      "4     0   137    40    35   168  43.1  2.288   33 \n",
      " \n",
      "\n",
      "0    tested_positive\n",
      "1    tested_negative\n",
      "2    tested_positive\n",
      "3    tested_negative\n",
      "4    tested_positive\n",
      "Name: class, dtype: category\n",
      "Categories (2, object): ['tested_negative', 'tested_positive']\n"
     ]
    }
   ],
   "source": [
    "# CHOOSE DATASET\n",
    "\n",
    "# Binary classification dataset\n",
    "diabetes =fetch_openml(\"diabetes\", version = 1, as_frame=True)\n",
    "\n",
    "X = diabetes.data.values\n",
    "y = diabetes.target.values\n",
    "\n",
    "y = np.where(y == \"tested_positive\", 1, 0)\n",
    "\n",
    "print(\"Shape:\", X.shape)\n",
    "\n",
    "print(diabetes.data.head(), \"\\n \\n\")# first rows of features\n",
    "print(diabetes.target.head()) # first rows of target"
   ]
  },
  {
   "cell_type": "code",
   "execution_count": 11,
   "id": "aafa6216",
   "metadata": {},
   "outputs": [],
   "source": [
    "#train test spliting\n",
    "test_size=0.2\n",
    "Xtr, Xte, ytr, yte = train_test_split(X, y, test_size=test_size, random_state=42)"
   ]
  },
  {
   "cell_type": "code",
   "execution_count": 12,
   "id": "2dfc9566",
   "metadata": {},
   "outputs": [],
   "source": [
    "# Standardize features\n",
    "scaler=StandardScaler()\n",
    "Xtr= scaler.fit_transform(Xtr)\n",
    "Xte= scaler.transform(Xte)"
   ]
  },
  {
   "cell_type": "markdown",
   "id": "9a5b65b6",
   "metadata": {},
   "source": [
    "A fixed seed was added to this code to ensure the reproducibility of the analysis. This allowed for manual tuning of the hyperparameters to achieve better model training."
   ]
  },
  {
   "cell_type": "code",
   "execution_count": 13,
   "id": "9f9cb9eb",
   "metadata": {},
   "outputs": [],
   "source": [
    "import random\n",
    "\n",
    "seed = 42\n",
    "torch.manual_seed(seed)\n",
    "np.random.seed(seed)\n",
    "random.seed(seed)\n",
    "\n",
    "# Para GPU\n",
    "torch.cuda.manual_seed(seed)\n",
    "torch.cuda.manual_seed_all(seed)\n",
    "\n",
    "# Tornar CUDA determinístico\n",
    "torch.backends.cudnn.deterministic = True\n",
    "torch.backends.cudnn.benchmark = False"
   ]
  },
  {
   "cell_type": "markdown",
   "id": "59bc341c",
   "metadata": {},
   "source": [
    "For this model, the number of neurons per layer was increased from 64 to 100. This change was made after observing that a higher number of neurons per layer could lead to improved model performance."
   ]
  },
  {
   "cell_type": "code",
   "execution_count": 14,
   "id": "99c0966d",
   "metadata": {},
   "outputs": [],
   "source": [
    "class MLP(nn.Module):\n",
    "    def __init__(self, input_size, output_size=1, dropout_prob=0.5):\n",
    "        super(MLP, self).__init__()\n",
    "\n",
    "        a = 100\n",
    "\n",
    "        self.fc1 = nn.Linear(input_size, a)\n",
    "        self.fc2 = nn.Linear(a, a)\n",
    "        self.fc3 = nn.Linear(a, a)\n",
    "        self.fc4 = nn.Linear(a, a)\n",
    "        self.out = nn.Linear(a, output_size)\n",
    "        \n",
    "        self.dropout = nn.Dropout(p=dropout_prob)\n",
    "        \n",
    "    def forward(self, x):\n",
    "        x = F.relu(self.fc1(x))\n",
    "        x = self.dropout(x)\n",
    "        \n",
    "        x = F.relu(self.fc2(x))\n",
    "        x = self.dropout(x)\n",
    "        \n",
    "        x = F.relu(self.fc3(x))\n",
    "        x = self.dropout(x)\n",
    "        \n",
    "        x = F.relu(self.fc4(x))\n",
    "        x = self.dropout(x)\n",
    "        \n",
    "        x = self.out(x)\n",
    "        return x"
   ]
  },
  {
   "cell_type": "code",
   "execution_count": 15,
   "id": "fc4fd984",
   "metadata": {},
   "outputs": [],
   "source": [
    "num_epochs=150\n",
    "lr=0.0001\n",
    "dropout=0.1\n",
    "batch_size=128"
   ]
  },
  {
   "cell_type": "markdown",
   "id": "a380cb3c",
   "metadata": {},
   "source": [
    "This model was trained on the GPU and then transferred to the CPU for use with NumPy. Given the low number of parameters (i.e., the model's low complexity), the time required on the CPU was similar to that on the GPU."
   ]
  },
  {
   "cell_type": "code",
   "execution_count": 16,
   "id": "2c34dc68",
   "metadata": {},
   "outputs": [
    {
     "name": "stdout",
     "output_type": "stream",
     "text": [
      "cuda\n"
     ]
    }
   ],
   "source": [
    "# Model, Loss, Optimizer\n",
    "device = torch.device(\"cuda\" if torch.cuda.is_available() else \"cpu\")\n",
    "#device = \"cpu\"  # force to use CPU\n",
    "print(device)"
   ]
  },
  {
   "cell_type": "code",
   "execution_count": 17,
   "id": "49298ada",
   "metadata": {},
   "outputs": [],
   "source": [
    "Xtr = torch.tensor(Xtr, dtype=torch.float32).to(device)\n",
    "ytr = torch.tensor(ytr, dtype=torch.float32).to(device)\n",
    "Xte = torch.tensor(Xte, dtype=torch.float32).to(device)\n",
    "yte = torch.tensor(yte, dtype=torch.float32).to(\"cpu\")\n",
    "\n",
    "# Wrap Xtr and ytr into a dataset\n",
    "train_dataset = TensorDataset(Xtr, ytr)\n",
    "\n",
    "# Create DataLoader\n",
    "train_dataloader = DataLoader(train_dataset, batch_size=batch_size, shuffle=True)"
   ]
  },
  {
   "cell_type": "code",
   "execution_count": 18,
   "id": "8e649c6f",
   "metadata": {},
   "outputs": [],
   "source": [
    "model = MLP(input_size=Xtr.shape[1], dropout_prob=dropout).to(device)\n",
    "criterion = nn.BCEWithLogitsLoss()  # for binary classification\n",
    "criterion = nn.MSELoss() #for regression\n",
    "optimizer = optim.Adam(model.parameters(), lr=lr)"
   ]
  },
  {
   "cell_type": "markdown",
   "id": "1537da44",
   "metadata": {},
   "source": [
    "The model was implemented as a fully connected neural network (MLP) with four hidden layers of 64 neurons each, using ReLU activation functions. The network takes the input features of the dataset and outputs a single value for regression (Diabetes Progression)."
   ]
  },
  {
   "cell_type": "code",
   "execution_count": 19,
   "id": "e02dec66",
   "metadata": {},
   "outputs": [
    {
     "name": "stdout",
     "output_type": "stream",
     "text": [
      "Epoch [1/150], Loss: 0.3047\n",
      "Epoch [2/150], Loss: 0.2965\n",
      "Epoch [3/150], Loss: 0.2853\n",
      "Epoch [4/150], Loss: 0.2748\n",
      "Epoch [5/150], Loss: 0.2666\n",
      "Epoch [6/150], Loss: 0.2612\n",
      "Epoch [7/150], Loss: 0.2516\n",
      "Epoch [8/150], Loss: 0.2430\n",
      "Epoch [9/150], Loss: 0.2342\n",
      "Epoch [10/150], Loss: 0.2262\n",
      "Epoch [11/150], Loss: 0.2204\n",
      "Epoch [12/150], Loss: 0.2118\n",
      "Epoch [13/150], Loss: 0.2021\n",
      "Epoch [14/150], Loss: 0.2008\n",
      "Epoch [15/150], Loss: 0.1928\n",
      "Epoch [16/150], Loss: 0.1910\n",
      "Epoch [17/150], Loss: 0.1854\n",
      "Epoch [18/150], Loss: 0.1833\n",
      "Epoch [19/150], Loss: 0.1756\n",
      "Epoch [20/150], Loss: 0.1753\n",
      "Epoch [21/150], Loss: 0.1742\n",
      "Epoch [22/150], Loss: 0.1699\n",
      "Epoch [23/150], Loss: 0.1679\n",
      "Epoch [24/150], Loss: 0.1621\n",
      "Epoch [25/150], Loss: 0.1665\n",
      "Epoch [26/150], Loss: 0.1668\n",
      "Epoch [27/150], Loss: 0.1589\n",
      "Epoch [28/150], Loss: 0.1595\n",
      "Epoch [29/150], Loss: 0.1589\n",
      "Epoch [30/150], Loss: 0.1579\n",
      "Epoch [31/150], Loss: 0.1586\n",
      "Epoch [32/150], Loss: 0.1594\n",
      "Epoch [33/150], Loss: 0.1581\n",
      "Epoch [34/150], Loss: 0.1524\n",
      "Epoch [35/150], Loss: 0.1543\n",
      "Epoch [36/150], Loss: 0.1496\n",
      "Epoch [37/150], Loss: 0.1515\n",
      "Epoch [38/150], Loss: 0.1545\n",
      "Epoch [39/150], Loss: 0.1566\n",
      "Epoch [40/150], Loss: 0.1530\n",
      "Epoch [41/150], Loss: 0.1583\n",
      "Epoch [42/150], Loss: 0.1496\n",
      "Epoch [43/150], Loss: 0.1494\n",
      "Epoch [44/150], Loss: 0.1520\n",
      "Epoch [45/150], Loss: 0.1494\n",
      "Epoch [46/150], Loss: 0.1473\n",
      "Epoch [47/150], Loss: 0.1484\n",
      "Epoch [48/150], Loss: 0.1517\n",
      "Epoch [49/150], Loss: 0.1460\n",
      "Epoch [50/150], Loss: 0.1500\n",
      "Epoch [51/150], Loss: 0.1483\n",
      "Epoch [52/150], Loss: 0.1478\n",
      "Epoch [53/150], Loss: 0.1515\n",
      "Epoch [54/150], Loss: 0.1521\n",
      "Epoch [55/150], Loss: 0.1468\n",
      "Epoch [56/150], Loss: 0.1484\n",
      "Epoch [57/150], Loss: 0.1493\n",
      "Epoch [58/150], Loss: 0.1454\n",
      "Epoch [59/150], Loss: 0.1473\n",
      "Epoch [60/150], Loss: 0.1443\n",
      "Epoch [61/150], Loss: 0.1475\n",
      "Epoch [62/150], Loss: 0.1423\n",
      "Epoch [63/150], Loss: 0.1428\n",
      "Epoch [64/150], Loss: 0.1438\n",
      "Epoch [65/150], Loss: 0.1434\n",
      "Epoch [66/150], Loss: 0.1442\n",
      "Epoch [67/150], Loss: 0.1461\n",
      "Epoch [68/150], Loss: 0.1430\n",
      "Epoch [69/150], Loss: 0.1445\n",
      "Epoch [70/150], Loss: 0.1458\n",
      "Epoch [71/150], Loss: 0.1419\n",
      "Epoch [72/150], Loss: 0.1426\n",
      "Epoch [73/150], Loss: 0.1438\n",
      "Epoch [74/150], Loss: 0.1436\n",
      "Epoch [75/150], Loss: 0.1452\n",
      "Epoch [76/150], Loss: 0.1464\n",
      "Epoch [77/150], Loss: 0.1443\n",
      "Epoch [78/150], Loss: 0.1388\n",
      "Epoch [79/150], Loss: 0.1399\n",
      "Epoch [80/150], Loss: 0.1416\n",
      "Epoch [81/150], Loss: 0.1383\n",
      "Epoch [82/150], Loss: 0.1432\n",
      "Epoch [83/150], Loss: 0.1387\n",
      "Epoch [84/150], Loss: 0.1417\n",
      "Epoch [85/150], Loss: 0.1406\n",
      "Epoch [86/150], Loss: 0.1373\n",
      "Epoch [87/150], Loss: 0.1430\n",
      "Epoch [88/150], Loss: 0.1435\n",
      "Epoch [89/150], Loss: 0.1341\n",
      "Epoch [90/150], Loss: 0.1422\n",
      "Epoch [91/150], Loss: 0.1343\n",
      "Epoch [92/150], Loss: 0.1393\n",
      "Epoch [93/150], Loss: 0.1401\n",
      "Epoch [94/150], Loss: 0.1424\n",
      "Epoch [95/150], Loss: 0.1357\n",
      "Epoch [96/150], Loss: 0.1378\n",
      "Epoch [97/150], Loss: 0.1424\n",
      "Epoch [98/150], Loss: 0.1363\n",
      "Epoch [99/150], Loss: 0.1360\n",
      "Epoch [100/150], Loss: 0.1367\n",
      "Epoch [101/150], Loss: 0.1409\n",
      "Epoch [102/150], Loss: 0.1403\n",
      "Epoch [103/150], Loss: 0.1374\n",
      "Epoch [104/150], Loss: 0.1308\n",
      "Epoch [105/150], Loss: 0.1308\n",
      "Epoch [106/150], Loss: 0.1387\n",
      "Epoch [107/150], Loss: 0.1351\n",
      "Epoch [108/150], Loss: 0.1383\n",
      "Epoch [109/150], Loss: 0.1396\n",
      "Epoch [110/150], Loss: 0.1402\n",
      "Epoch [111/150], Loss: 0.1359\n",
      "Epoch [112/150], Loss: 0.1393\n",
      "Epoch [113/150], Loss: 0.1298\n",
      "Epoch [114/150], Loss: 0.1328\n",
      "Epoch [115/150], Loss: 0.1302\n",
      "Epoch [116/150], Loss: 0.1371\n",
      "Epoch [117/150], Loss: 0.1325\n",
      "Epoch [118/150], Loss: 0.1379\n",
      "Epoch [119/150], Loss: 0.1357\n",
      "Epoch [120/150], Loss: 0.1342\n",
      "Epoch [121/150], Loss: 0.1400\n",
      "Epoch [122/150], Loss: 0.1363\n",
      "Epoch [123/150], Loss: 0.1359\n",
      "Epoch [124/150], Loss: 0.1322\n",
      "Epoch [125/150], Loss: 0.1306\n",
      "Epoch [126/150], Loss: 0.1338\n",
      "Epoch [127/150], Loss: 0.1299\n",
      "Epoch [128/150], Loss: 0.1254\n",
      "Epoch [129/150], Loss: 0.1297\n",
      "Epoch [130/150], Loss: 0.1311\n",
      "Epoch [131/150], Loss: 0.1315\n",
      "Epoch [132/150], Loss: 0.1311\n",
      "Epoch [133/150], Loss: 0.1289\n",
      "Epoch [134/150], Loss: 0.1358\n",
      "Epoch [135/150], Loss: 0.1307\n",
      "Epoch [136/150], Loss: 0.1301\n",
      "Epoch [137/150], Loss: 0.1312\n",
      "Epoch [138/150], Loss: 0.1297\n",
      "Epoch [139/150], Loss: 0.1352\n",
      "Epoch [140/150], Loss: 0.1322\n",
      "Epoch [141/150], Loss: 0.1337\n",
      "Epoch [142/150], Loss: 0.1260\n",
      "Epoch [143/150], Loss: 0.1281\n",
      "Epoch [144/150], Loss: 0.1324\n",
      "Epoch [145/150], Loss: 0.1312\n",
      "Epoch [146/150], Loss: 0.1259\n",
      "Epoch [147/150], Loss: 0.1283\n",
      "Epoch [148/150], Loss: 0.1314\n",
      "Epoch [149/150], Loss: 0.1234\n",
      "Epoch [150/150], Loss: 0.1310\n",
      "Training time: 2.52 seconds\n"
     ]
    }
   ],
   "source": [
    "# Training loop\n",
    "import time\n",
    "start_time = time.time()\n",
    "for epoch in range(num_epochs):\n",
    "    model.train()\n",
    "    epoch_loss = 0.0\n",
    "\n",
    "    for batch_x, batch_y in train_dataloader:\n",
    "        batch_x = batch_x.to(device)\n",
    "        batch_y = batch_y.to(device)\n",
    "\n",
    "        logits = model(batch_x)\n",
    "        loss = criterion(logits, batch_y.view(-1, 1))\n",
    "\n",
    "        optimizer.zero_grad()\n",
    "        loss.backward()\n",
    "        optimizer.step()\n",
    "\n",
    "        epoch_loss += loss.item()\n",
    "\n",
    "    avg_loss = epoch_loss / len(train_dataloader)\n",
    "    print(f\"Epoch [{epoch+1}/{num_epochs}], Loss: {avg_loss:.4f}\")\n",
    "\n",
    "end_time = time.time()\n",
    "print(f\"Training time: {end_time - start_time:.2f} seconds\")"
   ]
  },
  {
   "cell_type": "code",
   "execution_count": 20,
   "id": "dc271f10",
   "metadata": {},
   "outputs": [
    {
     "name": "stdout",
     "output_type": "stream",
     "text": [
      "ACC:0.7922077922077922\n",
      "Confusion Matrix:\n",
      "[[90  9]\n",
      " [23 32]]\n"
     ]
    }
   ],
   "source": [
    "\n",
    "thr = 0.6 #threshold to tune\n",
    "\n",
    "y_pred=model(Xte).cpu()\n",
    "y_true = yte.detach().numpy()\n",
    "y_pred_bin = (y_pred.detach().numpy() > thr).astype(int)  # binary predictions\n",
    "\n",
    "# Accuracy\n",
    "acc = accuracy_score(y_true, y_pred_bin)\n",
    "print(f'ACC:{accuracy_score(y_true,y_pred_bin)}') #classification\n",
    "\n",
    "cm = confusion_matrix(y_true, y_pred_bin)\n",
    "print(\"Confusion Matrix:\")\n",
    "print(cm)\n",
    "\n",
    "#print(f'ACC:{mean_squared_error(yte.detach().numpy(),y_pred.detach().numpy())}') #regression"
   ]
  },
  {
   "cell_type": "markdown",
   "id": "3891a688",
   "metadata": {},
   "source": [
    "After manually tuning the hyperparameters, the best configuration obtained was: num_epochs = 150, lr = 0.0001, dropout = 0.1, and batch_size = 128. Dropout with a probability of 0.1 was applied after each layer to mitigate overfitting. To validate the model, both accuracy and the confusion matrix were computed. An accuracy of 79.22% was achieved, which is comparable to other models. It was observed that the model performs better when predicting negative cases compared to positive cases. This behavior is likely due to the dataset being unbalanced, highlighting the importance of data quality for achieving reliable model performance. One possible approach to address this issue is to oversample the positive class so that both classes have similar representation during training."
   ]
  },
  {
   "cell_type": "code",
   "execution_count": 21,
   "id": "fd2d96a9",
   "metadata": {},
   "outputs": [
    {
     "data": {
      "image/png": "[encoded data removed]",
      "text/plain": [
       "<Figure size 1000x600 with 1 Axes>"
      ]
     },
     "metadata": {},
     "output_type": "display_data"
    }
   ],
   "source": [
    "# Convert y_pred to numpy and flatten\n",
    "y_pred_np = y_pred.detach().numpy().flatten()\n",
    "y_pred_bin_np = y_pred_bin\n",
    "yte_np = yte.detach().numpy()\n",
    "\n",
    "# Get indices that sort yte\n",
    "sort_idx = np.argsort(yte_np)\n",
    "\n",
    "# Sort yte and y_pred\n",
    "yte_sorted = yte_np[sort_idx]\n",
    "y_pred_sorted = y_pred_np[sort_idx]\n",
    "\n",
    "# Determine the index where actual target switches from 0 to 1\n",
    "frontier_idx = np.argmax(yte_sorted == 1)  # first occurrence of 1\n",
    "\n",
    "# Plot\n",
    "plt.figure(figsize=(10,6))\n",
    "\n",
    "# Shade negative region (yte = 0)\n",
    "plt.axvspan(0, frontier_idx, facecolor='red', alpha=0.1)\n",
    "\n",
    "# Shade positive region (yte = 1)\n",
    "plt.axvspan(frontier_idx, len(yte_sorted), facecolor='green', alpha=0.1)\n",
    "\n",
    "# Actual and predicted points\n",
    "plt.plot(range(len(yte_sorted)), yte_sorted, label=\"Actual\", marker=\"o\", linestyle='')\n",
    "plt.plot(range(len(y_pred_sorted)), y_pred_sorted, label=\"Predicted\", marker=\"o\", linestyle='')\n",
    "\n",
    "# Threshold line\n",
    "plt.axhline(y=thr, color='k', linestyle='--', label=f'Threshold={thr}')\n",
    "\n",
    "plt.xlabel(\"Sample index (sorted by actual value)\")\n",
    "plt.ylabel(\"Diabetes progression / Prediction\")\n",
    "plt.title(\"Predicted vs Actual values with Threshold\")\n",
    "plt.legend()\n",
    "plt.show()"
   ]
  },
  {
   "cell_type": "code",
   "execution_count": null,
   "id": "74978f4c",
   "metadata": {},
   "outputs": [],
   "source": []
  }
 ],
 "metadata": {
  "kernelspec": {
   "display_name": "Python 3",
   "language": "python",
   "name": "python3"
  },
  "language_info": {
   "codemirror_mode": {
    "name": "ipython",
    "version": 3
   },
   "file_extension": ".py",
   "mimetype": "text/x-python",
   "name": "python",
   "nbconvert_exporter": "python",
   "pygments_lexer": "ipython3",
   "version": "3.12.1"
  }
 },
 "nbformat": 4,
 "nbformat_minor": 5
}
